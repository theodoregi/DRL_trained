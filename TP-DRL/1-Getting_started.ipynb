{
 "cells": [
  {
   "cell_type": "code",
   "execution_count": null,
   "metadata": {},
   "outputs": [],
   "source": [
    "###########################################################################\n",
    "# Copyright 2022-2023 Jean-Luc CHARLES\n",
    "# Created: 2022-07-29\n",
    "# version: 1.2 - 3 Dev 2023\n",
    "# License: GNU GPL-3.0-or-later\n",
    "###########################################################################"
   ]
  },
  {
   "cell_type": "markdown",
   "metadata": {},
   "source": [
    "# Getting started with the robotic simulator _PyBullet_\n",
    "\n",
    "\n",
    "\n",
    "# Outline <a name=\"top\"></a>\n",
    "- [$1 -$ Start the Pybullet server](#1)\n",
    "    - [$1.1 -$ Launch PyBullet server with the GUI](#1.1)\n",
    "    - [$1.2 -$ Start a new simulation and set some useful parameters](#1.2)\n",
    "- [$2 -$ Load URDF files](#2)\n",
    "    - [$2.1 -$ Load the ground plane](#2.1)\n",
    "    - [$2.2 -$ Load the robot URDF file](#2.2)\n",
    "    - [$2.3 -$ Useful shorcuts](#2.3)\n",
    "    - [$2.4 -$ Display robot joint properties](#2.4)\n",
    "- [$3 -$ Move the robot](#3)\n",
    "    - [$3.1 -$ Control the position of the robot](#3.1)\n",
    "    - [$3.2 -$ Robot free run simulation](#3.2)"
   ]
  },
  {
   "cell_type": "markdown",
   "metadata": {},
   "source": [
    "Recommended document:\n",
    "- Pybullet online documentation: [PyBullet Quickstart Guide](https://docs.google.com/document/d/10sXEhzFRSnvFcl3XxNGhnD4N2SedqwdAvK3dsihxVUA/edit#heading=h.2ye70wns7io3)"
   ]
  },
  {
   "cell_type": "markdown",
   "metadata": {},
   "source": [
    "# Import the required modules"
   ]
  },
  {
   "cell_type": "code",
   "execution_count": null,
   "metadata": {},
   "outputs": [],
   "source": [
    "import pybullet as p\n",
    "import pybullet_data\n",
    "import numpy as np\n",
    "import os, time\n",
    "from math import pi\n",
    "from utils.tools import is_close_to, move_to, display_joint_properties, display_link_properties, welcome\n",
    "\n",
    "np.set_printoptions(precision=4)\n",
    "pc = None    # pc : the connection to PyBullet"
   ]
  },
  {
   "cell_type": "markdown",
   "metadata": {},
   "source": [
    "# 1 $-$ Start the Pybullet server<a name=\"1\"></a>\n",
    "## 1.1 $-$ Launch the PyBullet server with the GUI:<a name=\"1.1\"></a>"
   ]
  },
  {
   "cell_type": "markdown",
   "metadata": {},
   "source": [
    "The following cell opens an empty window. It will show later the objects computed by PyBullet..."
   ]
  },
  {
   "cell_type": "code",
   "execution_count": null,
   "metadata": {},
   "outputs": [],
   "source": [
    "if pc is None: pc = p.connect(p.GUI)\n",
    "p.configureDebugVisualizer(p.COV_ENABLE_GUI, 0)\n",
    "p.setAdditionalSearchPath(pybullet_data.getDataPath())  # used by loadURDF"
   ]
  },
  {
   "cell_type": "markdown",
   "metadata": {},
   "source": [
    "<a name=\"1.2\"></a>\n",
    "## 1.2 $-$ Start a new simulation and set some useful parameters:"
   ]
  },
  {
   "cell_type": "code",
   "execution_count": null,
   "metadata": {},
   "outputs": [],
   "source": [
    "p.resetSimulation()\n",
    "# set some important parameters:\n",
    "p.setGravity(0,0,-9.81)           # m/s^2\n",
    "p.setTimeStep(0.01)               # the simulation time step in secondes"
   ]
  },
  {
   "cell_type": "markdown",
   "metadata": {},
   "source": [
    "[top](#top)"
   ]
  },
  {
   "cell_type": "markdown",
   "metadata": {},
   "source": [
    "# 2 $-$ Load URDF files<a name=\"2\"></a>\n",
    "## 2.1 $-$ Load the ground plane <a name=\"2.1\"></a>"
   ]
  },
  {
   "cell_type": "code",
   "execution_count": null,
   "metadata": {},
   "outputs": [],
   "source": [
    "planeId = p.loadURDF(\"plane.urdf\")"
   ]
  },
  {
   "cell_type": "markdown",
   "metadata": {
    "tags": []
   },
   "source": [
    "## 2.2 $-$ Load the robot URDF file <a name=\"2.2\"></a>\n",
    "\n",
    "<img align=\"left\" src=\"./images/2DOFRobot-arm.png\" width=\"300\"> $\\ $ L1 = L2 = 1m; M1 = M2 = 1 kg <br>\n",
    "$\\ $link to the page [urdf/Tutorials/Create your own urdf file](http://wiki.ros.org/urdf/Tutorials/Create%20your%20own%20urdf%20file)<br>\n",
    "$\\ $link to the page [urdf/XML/link](http://wiki.ros.org/urdf/XML/link)<br>\n",
    "$\\ $link to the page [urdf/XML/joint](http://wiki.ros.org/urdf/XML/joint)<br>"
   ]
  },
  {
   "cell_type": "code",
   "execution_count": null,
   "metadata": {},
   "outputs": [],
   "source": [
    "startPos = [0, 0, 0.01]\n",
    "startOrientation = p.getQuaternionFromEuler([0, 0, 0])\n",
    "botId  = p.loadURDF(\"./urdf/RoboticArm_2DOF_2.urdf\", startPos, startOrientation)"
   ]
  },
  {
   "cell_type": "markdown",
   "metadata": {
    "tags": []
   },
   "source": [
    "## 2.3 $-$ Useful shorcuts <a name=\"2.3\"></a>"
   ]
  },
  {
   "cell_type": "code",
   "execution_count": null,
   "metadata": {
    "tags": []
   },
   "outputs": [],
   "source": [
    "welcome()"
   ]
  },
  {
   "cell_type": "markdown",
   "metadata": {},
   "source": [
    "Try these shortcuts in the Bullet window..."
   ]
  },
  {
   "cell_type": "markdown",
   "metadata": {},
   "source": [
    "## 2.4 $-$ Display robot joint properties <a name=\"2.4\"></a>"
   ]
  },
  {
   "cell_type": "markdown",
   "metadata": {},
   "source": [
    "Display the joints properties to see their indexex and main properties:"
   ]
  },
  {
   "cell_type": "code",
   "execution_count": null,
   "metadata": {},
   "outputs": [],
   "source": [
    "display_joint_properties(botId)"
   ]
  },
  {
   "cell_type": "markdown",
   "metadata": {},
   "source": [
    "Display the __bodies__:"
   ]
  },
  {
   "cell_type": "code",
   "execution_count": null,
   "metadata": {},
   "outputs": [],
   "source": [
    "p.getBodyInfo(botId)"
   ]
  },
  {
   "cell_type": "markdown",
   "metadata": {},
   "source": [
    "Display the __links__ and some properties:"
   ]
  },
  {
   "cell_type": "code",
   "execution_count": null,
   "metadata": {},
   "outputs": [],
   "source": [
    "display_link_properties(botId)"
   ]
  },
  {
   "cell_type": "markdown",
   "metadata": {},
   "source": [
    "[top](#top)"
   ]
  },
  {
   "cell_type": "markdown",
   "metadata": {},
   "source": [
    "# 3 $-$ Move the robot<a name=\"3\"></a>\n",
    "## 3.1 $-$ Control the robot position:<a name=\"3.1\"></a>"
   ]
  },
  {
   "cell_type": "markdown",
   "metadata": {},
   "source": [
    "- The function `p.setJointMotorControlArray` lets you control the robot joints :<br>\n",
    "    - by position: mode __POSITION_CONTROL__<br>\n",
    "    - by velocity: mode __VELOCITY_CONTROL__<br>\n",
    "    - by torque: mode __TORQUE_CONTROL__.\n",
    "\n",
    "- The function `p.p.stepSimulation` is used to compute a simulation step.\n",
    "\n",
    "- The function `p.getJointStates` returns the state (position, velocities...) of the joints given in arguments.\n",
    "\n",
    "Look at the function `move_to` in the file `utils/tools.py` to see how these fucntions are used..."
   ]
  },
  {
   "cell_type": "code",
   "execution_count": null,
   "metadata": {},
   "outputs": [],
   "source": [
    "move_to(botId, (1,2), (0, 0))\n",
    "move_to(botId, (1,2), (pi/2, 0))\n",
    "move_to(botId, (1,2), (pi/2, pi/6))\n",
    "move_to(botId, (1,2), (pi/2+pi/6, pi/6))\n",
    "move_to(botId, (1,2), (pi/2, pi/2))\n",
    "move_to(botId, (1,2), (pi/2, -pi/2))"
   ]
  },
  {
   "cell_type": "markdown",
   "metadata": {},
   "source": [
    "## 3.2 $-$ Robot free run simulation:<a name=\"3.2\"></a>"
   ]
  },
  {
   "cell_type": "code",
   "execution_count": null,
   "metadata": {},
   "outputs": [],
   "source": [
    "print(\"Going to the start position...\")\n",
    "move_to(botId, (1,2), (pi/2-pi/6, -pi/6), wait=\"Press ENTER to start, [Q] in the pybullet window to end...\")\n",
    " \n",
    "# disable the motor control motion for the 2 revolute joints:\n",
    "p.setJointMotorControl2(botId, 1, controlMode=p.VELOCITY_CONTROL, force=0)\n",
    "p.setJointMotorControl2(botId, 2, controlMode=p.VELOCITY_CONTROL, force=0)\n",
    "\n",
    "# now let the gravity do thejob:\n",
    "step = 0\n",
    "while True:\n",
    "    p.stepSimulation()\n",
    "    keys = p.getKeyboardEvents(physicsClientId=pc)\n",
    "    if ord('q') in keys and keys[ord('q')] & p.KEY_WAS_TRIGGERED:\n",
    "        break\n",
    "    time.sleep(1/240)\n",
    "    \n",
    "    # force the simulation to end, even if you haven't press \n",
    "    # the [Q] key in the simulation window...\n",
    "    step += 1\n",
    "    if step >= 1000: break\n",
    "        \n",
    "p.disconnect(physicsClientId=pc)\n",
    "pc = None        \n",
    "\n",
    "print(\"Restart kernel if you want to re-run the notebook from the beginning...\")        "
   ]
  },
  {
   "cell_type": "markdown",
   "metadata": {},
   "source": [
    "[top](#top)"
   ]
  }
 ],
 "metadata": {
  "kernelspec": {
   "display_name": "Python 3 (ipykernel)",
   "language": "python",
   "name": "python3"
  },
  "language_info": {
   "codemirror_mode": {
    "name": "ipython",
    "version": 3
   },
   "file_extension": ".py",
   "mimetype": "text/x-python",
   "name": "python",
   "nbconvert_exporter": "python",
   "pygments_lexer": "ipython3",
   "version": "3.10.13"
  },
  "toc-showmarkdowntxt": false,
  "toc-showtags": false
 },
 "nbformat": 4,
 "nbformat_minor": 4
}
